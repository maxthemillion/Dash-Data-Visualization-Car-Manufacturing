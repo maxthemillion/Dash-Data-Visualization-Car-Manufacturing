{
 "cells": [
  {
   "cell_type": "code",
   "execution_count": 25,
   "metadata": {},
   "outputs": [
    {
     "data": {
      "text/html": [
       "<style>.container { width:100% !important; }</style>"
      ],
      "text/plain": [
       "<IPython.core.display.HTML object>"
      ]
     },
     "metadata": {},
     "output_type": "display_data"
    }
   ],
   "source": [
    "from IPython.core.display import display, HTML\n",
    "display(HTML(\"<style>.container { width:100% !important; }</style>\"))"
   ]
  },
  {
   "cell_type": "code",
   "execution_count": 1,
   "metadata": {},
   "outputs": [],
   "source": [
    "#basics\n",
    "import pandas as pd\n",
    "import numpy as np\n",
    "\n",
    "#plotly\n",
    "import plotly.graph_objs as go\n",
    "import plotly.express as px\n",
    "\n",
    "#dash\n",
    "import dash\n",
    "import dash_core_components as dcc\n",
    "import dash_html_components as html\n",
    "import nbformat"
   ]
  },
  {
   "cell_type": "markdown",
   "metadata": {},
   "source": [
    "## Read in random data "
   ]
  },
  {
   "cell_type": "code",
   "execution_count": 8,
   "metadata": {},
   "outputs": [
    {
     "data": {
      "text/html": [
       "<div>\n",
       "<style scoped>\n",
       "    .dataframe tbody tr th:only-of-type {\n",
       "        vertical-align: middle;\n",
       "    }\n",
       "\n",
       "    .dataframe tbody tr th {\n",
       "        vertical-align: top;\n",
       "    }\n",
       "\n",
       "    .dataframe thead th {\n",
       "        text-align: right;\n",
       "    }\n",
       "</style>\n",
       "<table border=\"1\" class=\"dataframe\">\n",
       "  <thead>\n",
       "    <tr style=\"text-align: right;\">\n",
       "      <th></th>\n",
       "      <th>Id</th>\n",
       "      <th>Plant</th>\n",
       "      <th>Rework Station</th>\n",
       "      <th>Rework Activity</th>\n",
       "      <th>Defect Location</th>\n",
       "      <th>Defect Type</th>\n",
       "      <th>Pseudo Defect</th>\n",
       "      <th>Week</th>\n",
       "      <th>Rework Duration</th>\n",
       "    </tr>\n",
       "  </thead>\n",
       "  <tbody>\n",
       "    <tr>\n",
       "      <th>0</th>\n",
       "      <td>81277</td>\n",
       "      <td>Sindelfingen</td>\n",
       "      <td>S9842</td>\n",
       "      <td>Part replaced</td>\n",
       "      <td>Digital dashboard left</td>\n",
       "      <td>Scratch</td>\n",
       "      <td>0</td>\n",
       "      <td>5</td>\n",
       "      <td>110.0</td>\n",
       "    </tr>\n",
       "    <tr>\n",
       "      <th>1</th>\n",
       "      <td>81278</td>\n",
       "      <td>Sindelfingen</td>\n",
       "      <td>A0100</td>\n",
       "      <td>Checked OK</td>\n",
       "      <td>Digital dashboard left</td>\n",
       "      <td>Dirt</td>\n",
       "      <td>0</td>\n",
       "      <td>3</td>\n",
       "      <td>60.0</td>\n",
       "    </tr>\n",
       "    <tr>\n",
       "      <th>2</th>\n",
       "      <td>81279</td>\n",
       "      <td>Ingolstadt</td>\n",
       "      <td>A0100</td>\n",
       "      <td>Checked OK</td>\n",
       "      <td>Digital dashboard left</td>\n",
       "      <td>Label missing</td>\n",
       "      <td>0</td>\n",
       "      <td>9</td>\n",
       "      <td>1.0</td>\n",
       "    </tr>\n",
       "  </tbody>\n",
       "</table>\n",
       "</div>"
      ],
      "text/plain": [
       "      Id         Plant Rework Station Rework Activity         Defect Location  \\\n",
       "0  81277  Sindelfingen          S9842   Part replaced  Digital dashboard left   \n",
       "1  81278  Sindelfingen          A0100      Checked OK  Digital dashboard left   \n",
       "2  81279    Ingolstadt          A0100      Checked OK  Digital dashboard left   \n",
       "\n",
       "     Defect Type  Pseudo Defect  Week  Rework Duration  \n",
       "0        Scratch              0     5            110.0  \n",
       "1           Dirt              0     3             60.0  \n",
       "2  Label missing              0     9              1.0  "
      ]
     },
     "execution_count": 8,
     "metadata": {},
     "output_type": "execute_result"
    }
   ],
   "source": [
    "data = pd.read_csv(\"myRandomData.csv\")\n",
    "data.head(3)"
   ]
  },
  {
   "cell_type": "markdown",
   "metadata": {},
   "source": [
    "## Prepare data set"
   ]
  },
  {
   "cell_type": "code",
   "execution_count": 3,
   "metadata": {},
   "outputs": [],
   "source": [
    "#define counter dummy variable (for later group-bys)\n",
    "data['Total']=1"
   ]
  },
  {
   "cell_type": "markdown",
   "metadata": {},
   "source": [
    "## Prepare empty plots for first loading of website"
   ]
  },
  {
   "cell_type": "code",
   "execution_count": 4,
   "metadata": {},
   "outputs": [],
   "source": [
    "fig = go.Figure()\n",
    "boxplot = go.Figure()\n",
    "scatter = go.Figure()"
   ]
  },
  {
   "cell_type": "markdown",
   "metadata": {},
   "source": [
    "## Code for website"
   ]
  },
  {
   "cell_type": "code",
   "execution_count": 5,
   "metadata": {},
   "outputs": [],
   "source": [
    "# The input is the input of the selection boxes\n",
    "def update_graph(plant, selected_variable, stacked, week):\n",
    "    \n",
    "    # Define the data for further plotting based on input of selection box plant and of slider week\n",
    "    data_plant = data[np.logical_and(data['Plant'].isin(plant),data['Week'].isin(range(week[0], week[1]+1)))]\n",
    "    \n",
    "    # Define order of classes on y-axis (=classes of selected feature in selection box 'features')\n",
    "    # Goal: have a consistent order for each variable in the two plots\n",
    "    myorder = data_plant[selected_variable].value_counts(ascending=True).index\n",
    "    # Order data such that rework activities that happen more often are shown on top of data set using prepared order\n",
    "    data_plant[selected_variable]=pd.Categorical(data_plant[selected_variable],myorder)\n",
    "    data_plant.sort_values(selected_variable)\n",
    "    \n",
    "    \n",
    "    ############################\n",
    "    # Update barplot showing frequency of occurence in dataset\n",
    "    ############################\n",
    "    \n",
    "    # compute frequencies for frequency plot by groupin data regarding the selected feature\n",
    "    # counter.columns = <Selected variable>, 'Pseudo Defect' (=Number of defects which are pseudodefects regarding the class), \n",
    "    # 'Total' (=Number of defects in total regarding the class),  'No Pseudo Defect' (=Number of defects which are NOT pseudo defect regarding the class)\n",
    "    counter = data_plant[[selected_variable, 'Pseudo Defect', 'Total']].groupby(selected_variable).sum().reset_index()\n",
    "    # add a new column to count the entries, which are NOT pseudo errors\n",
    "    counter['No Pseudo Defect'] = counter['Total'] - counter['Pseudo Defect']\n",
    "                                     \n",
    "    # plot for case \"no division selected\"\n",
    "    if stacked == 'No':\n",
    "        fig = go.Figure(\n",
    "            data=[go.Bar(x=counter['Total'], y=counter[selected_variable],\n",
    "                         orientation='h',                                                                          # orientation of bars should be horizontal\n",
    "                         text=[str(perc)+'%' for perc in np.round(counter['Total']/sum(counter['Total'])*100,2)], # text on bars: pecentage share of this class regarding whole number of defects\n",
    "                         textposition='auto', marker={'color': counter['Total'] ,'colorscale':\"Bluered\"}          # define colors of bars\n",
    "            )] ,\n",
    "            layout={'yaxis': {'type': 'category'}}\n",
    "        )\n",
    "    # plot for division for pseudo errors: stacked barchart\n",
    "    else:\n",
    "        fig = go.Figure(\n",
    "            data=[go.Bar(name = 'No pseudo defect', x=counter['No Pseudo Defect'], y=counter[selected_variable],\n",
    "                         orientation='h',                                                                               # orientation of bars should be horizontal\n",
    "                         text=[str(perc)+'%' for perc in np.round(counter['No Pseudo Defect']/counter['Total']*100,2)], # text: pecentage share of 'No Pseudo Defect' in this class\n",
    "                         textposition='auto'\n",
    "                        ),\n",
    "                  go.Bar(name = 'Pseudo defect',x=counter['Pseudo Defect'], y=counter[selected_variable],\n",
    "                         orientation='h',                                                                            # orientation of bars should be horizontal\n",
    "                         text=[str(perc)+'%' for perc in np.round(counter['Pseudo Defect']/counter['Total']*100,2)], # text: pecentage share of 'Pseudo Defect' in this class\n",
    "                         textposition='auto'\n",
    "                        )\n",
    "                 ],\n",
    "            layout={'yaxis': {'type': 'category'}}\n",
    "        )\n",
    "        \n",
    "        fig.update_layout(barmode='stack') #stacked barchart\n",
    "    \n",
    "    # layout of frequency chart\n",
    "    fig.update_layout(\n",
    "            autosize=False,\n",
    "            paper_bgcolor='rgba(0,0,0,0)', # backround color of outer part\n",
    "            plot_bgcolor='gainsboro',      # backround color of inner part\n",
    "            yaxis_title=selected_variable, # y-axis title\n",
    "            xaxis_title='Frequency',       # x-axis title\n",
    "            font=dict(size=16),            # fontsize of all letters in plot\n",
    "            height=600)                    # height of graphic (should be the same as in boxplot)\n",
    "    \n",
    "    \n",
    "    #############################\n",
    "    # boxplot for rework duration\n",
    "    #############################\n",
    "    \n",
    "    #define data for boxplot (only needed columns)\n",
    "    mydata = data_plant[[selected_variable, 'Rework Duration', 'Pseudo Defect']]\n",
    "    #sort the classes in the selected variable the same way, as it is shown in the frequency plot\n",
    "    mydata[selected_variable]=pd.Categorical(mydata[selected_variable],myorder)\n",
    "    mydata = mydata.sort_values(selected_variable)\n",
    "    \n",
    "    #plot if we have no division depending on the pseudo defects\n",
    "    if stacked == 'No':\n",
    "        boxplot= px.box(mydata, y=selected_variable, x=\"Rework Duration\", orientation='h')\n",
    "    #plot if we have a division depending on the pseudo defects\n",
    "    else:\n",
    "        boxplot= px.box(mydata, y=selected_variable, x=\"Rework Duration\", orientation='h', color=stacked, color_discrete_sequence=['red', 'blue'])\n",
    "    \n",
    "    #boxplot layout\n",
    "    boxplot.update_layout(autosize=False,paper_bgcolor='rgba(0,0,0,0)', plot_bgcolor='gainsboro', xaxis_title = 'Time [Min]', font=dict(size=16), height=600)\n",
    "        \n",
    "        \n",
    "    ############################\n",
    "    # scatterplot for weekly analysis\n",
    "    ############################\n",
    "    \n",
    "    #plot if we have no division depending on the pseudo defects\n",
    "    if stacked == 'No':\n",
    "        #prepare dataset by grouping by week\n",
    "        counter_scatter = data_plant[['Week', 'Total']].groupby('Week').sum()\n",
    "        scatter = go.Figure(data=go.Scatter(x=counter_scatter.index, y=counter_scatter['Total']))\n",
    "    #plot if we have a division depending on the pseudo defects\n",
    "    else: \n",
    "        #prepare dataset by grouping by week\n",
    "        counter_scatter = data_plant[['Week', 'Pseudo Defect', 'Total']].groupby('Week').sum().reset_index()\n",
    "        #line for pseudo defects\n",
    "        scatter = go.Figure(data=go.Scatter(x=counter_scatter['Week'], y=counter_scatter['Total']-counter_scatter['Pseudo Defect'], name= 'No pseudo defect'))\n",
    "        #line for non-pseudo defects\n",
    "        scatter.add_trace(go.Scatter(x=counter_scatter['Week'], y=counter_scatter['Pseudo Defect'], name = 'Pseudo defect'))\n",
    "        \n",
    "    #scatterplot layout\n",
    "    scatter.update_layout(autosize=False, paper_bgcolor='rgba(0,0,0,0)', plot_bgcolor='gainsboro', xaxis_title = 'Calendar week', font=dict(size=16), yaxis_title='Frequency of defects',xaxis = dict(tickmode = 'linear',dtick = 1))\n",
    "    \n",
    "    #returning output (return the three updated figures)\n",
    "    return fig, boxplot, scatter"
   ]
  },
  {
   "cell_type": "markdown",
   "metadata": {},
   "source": [
    "To start the local dashboard website, run the following cell. The website is run with flask. When app.run() method will be executed, the website is created. Note that the cell has to be running, if dropdown and slider should work. If you interupt the kernel and stop the cell running, the website will not react anymore."
   ]
  },
  {
   "cell_type": "code",
   "execution_count": 6,
   "metadata": {},
   "outputs": [
    {
     "name": "stdout",
     "output_type": "stream",
     "text": [
      " * Serving Flask app \"__main__\" (lazy loading)\n",
      " * Environment: production\n",
      "   WARNING: This is a development server. Do not use it in a production deployment.\n",
      "   Use a production WSGI server instead.\n",
      " * Debug mode: off\n"
     ]
    },
    {
     "name": "stderr",
     "output_type": "stream",
     "text": [
      " * Running on http://127.0.0.1:8050/ (Press CTRL+C to quit)\n",
      "127.0.0.1 - - [19/Dec/2019 09:28:20] \"\u001b[37mGET / HTTP/1.1\u001b[0m\" 200 -\n",
      "127.0.0.1 - - [19/Dec/2019 09:28:20] \"\u001b[37mGET /assets/stylesheet_dash.css?m=1572434648.0 HTTP/1.1\u001b[0m\" 200 -\n",
      "127.0.0.1 - - [19/Dec/2019 09:28:20] \"\u001b[37mGET /_dash-component-suites/dash_renderer/react@16.8.6.min.js?v=1.1.2&m=1572259764 HTTP/1.1\u001b[0m\" 200 -\n",
      "127.0.0.1 - - [19/Dec/2019 09:28:20] \"\u001b[37mGET /_dash-component-suites/dash_renderer/prop-types@15.7.2.min.js?v=1.1.2&m=1572259764 HTTP/1.1\u001b[0m\" 200 -\n",
      "127.0.0.1 - - [19/Dec/2019 09:28:20] \"\u001b[37mGET /_dash-component-suites/dash_renderer/react-dom@16.8.6.min.js?v=1.1.2&m=1572259764 HTTP/1.1\u001b[0m\" 200 -\n",
      "127.0.0.1 - - [19/Dec/2019 09:28:20] \"\u001b[37mGET /_dash-component-suites/dash_core_components/highlight.pack.js?v=1.3.1&m=1572259766 HTTP/1.1\u001b[0m\" 200 -\n",
      "127.0.0.1 - - [19/Dec/2019 09:28:20] \"\u001b[37mGET /_dash-component-suites/dash_html_components/dash_html_components.min.js?v=1.0.1&m=1572259767 HTTP/1.1\u001b[0m\" 200 -\n",
      "127.0.0.1 - - [19/Dec/2019 09:28:20] \"\u001b[37mGET /_dash-component-suites/dash_renderer/dash_renderer.min.js?v=1.1.2&m=1572259764 HTTP/1.1\u001b[0m\" 200 -\n",
      "127.0.0.1 - - [19/Dec/2019 09:28:20] \"\u001b[37mGET /_dash-component-suites/dash_core_components/dash_core_components.min.js?v=1.3.1&m=1572259766 HTTP/1.1\u001b[0m\" 200 -\n",
      "127.0.0.1 - - [19/Dec/2019 09:28:20] \"\u001b[37mGET /_dash-component-suites/dash_core_components/plotly-1.50.1.min.js?v=1.3.1&m=1572259766 HTTP/1.1\u001b[0m\" 200 -\n",
      "127.0.0.1 - - [19/Dec/2019 09:28:22] \"\u001b[37mGET /_dash-layout HTTP/1.1\u001b[0m\" 200 -\n",
      "127.0.0.1 - - [19/Dec/2019 09:28:22] \"\u001b[37mGET /_dash-dependencies HTTP/1.1\u001b[0m\" 200 -\n",
      "C:\\Users\\pfafft\\AppData\\Local\\Continuum\\anaconda3\\lib\\site-packages\\ipykernel_launcher.py:175: SettingWithCopyWarning:\n",
      "\n",
      "\n",
      "A value is trying to be set on a copy of a slice from a DataFrame.\n",
      "Try using .loc[row_indexer,col_indexer] = value instead\n",
      "\n",
      "See the caveats in the documentation: http://pandas.pydata.org/pandas-docs/stable/indexing.html#indexing-view-versus-copy\n",
      "\n",
      "127.0.0.1 - - [19/Dec/2019 09:28:22] \"\u001b[37mGET /assets/KiMotion_Logo.png HTTP/1.1\u001b[0m\" 200 -\n",
      "127.0.0.1 - - [19/Dec/2019 09:28:23] \"\u001b[37mPOST /_dash-update-component HTTP/1.1\u001b[0m\" 200 -\n",
      "127.0.0.1 - - [19/Dec/2019 09:30:58] \"\u001b[37mPOST /_dash-update-component HTTP/1.1\u001b[0m\" 200 -\n",
      "127.0.0.1 - - [19/Dec/2019 09:31:28] \"\u001b[37mPOST /_dash-update-component HTTP/1.1\u001b[0m\" 200 -\n",
      "127.0.0.1 - - [19/Dec/2019 09:31:30] \"\u001b[37mPOST /_dash-update-component HTTP/1.1\u001b[0m\" 200 -\n",
      "127.0.0.1 - - [19/Dec/2019 09:31:33] \"\u001b[37mPOST /_dash-update-component HTTP/1.1\u001b[0m\" 200 -\n",
      "127.0.0.1 - - [19/Dec/2019 09:31:38] \"\u001b[37mPOST /_dash-update-component HTTP/1.1\u001b[0m\" 200 -\n",
      "127.0.0.1 - - [19/Dec/2019 11:25:20] \"\u001b[37mPOST /_dash-update-component HTTP/1.1\u001b[0m\" 200 -\n",
      "127.0.0.1 - - [19/Dec/2019 11:25:28] \"\u001b[37mPOST /_dash-update-component HTTP/1.1\u001b[0m\" 200 -\n",
      "127.0.0.1 - - [19/Dec/2019 11:25:52] \"\u001b[37mPOST /_dash-update-component HTTP/1.1\u001b[0m\" 200 -\n",
      "127.0.0.1 - - [19/Dec/2019 11:26:01] \"\u001b[37mPOST /_dash-update-component HTTP/1.1\u001b[0m\" 200 -\n"
     ]
    }
   ],
   "source": [
    "if __name__ == '__main__':\n",
    "    app.run_server()"
   ]
  },
  {
   "cell_type": "code",
   "execution_count": 99,
   "metadata": {},
   "outputs": [],
   "source": []
  },
  {
   "cell_type": "code",
   "execution_count": null,
   "metadata": {},
   "outputs": [],
   "source": []
  }
 ],
 "metadata": {
  "kernelspec": {
   "display_name": "Python 3",
   "language": "python",
   "name": "python3"
  },
  "language_info": {
   "codemirror_mode": {
    "name": "ipython",
    "version": 3
   },
   "file_extension": ".py",
   "mimetype": "text/x-python",
   "name": "python",
   "nbconvert_exporter": "python",
   "pygments_lexer": "ipython3",
   "version": "3.7.0"
  }
 },
 "nbformat": 4,
 "nbformat_minor": 2
}
